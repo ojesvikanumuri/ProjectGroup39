{
 "cells": [
  {
   "cell_type": "code",
   "execution_count": 2,
   "id": "c6353820",
   "metadata": {},
   "outputs": [
    {
     "name": "stderr",
     "output_type": "stream",
     "text": [
      "/Users/avantiunde/opt/anaconda3/anaconda3/lib/python3.8/site-packages/IPython/core/interactiveshell.py:3165: DtypeWarning: Columns (20,31,32) have mixed types.Specify dtype option on import or set low_memory=False.\n",
      "  has_raised = await self.run_ast_nodes(code_ast.body, cell_name,\n"
     ]
    },
    {
     "data": {
      "text/html": [
       "<div>\n",
       "<style scoped>\n",
       "    .dataframe tbody tr th:only-of-type {\n",
       "        vertical-align: middle;\n",
       "    }\n",
       "\n",
       "    .dataframe tbody tr th {\n",
       "        vertical-align: top;\n",
       "    }\n",
       "\n",
       "    .dataframe thead th {\n",
       "        text-align: right;\n",
       "    }\n",
       "</style>\n",
       "<table border=\"1\" class=\"dataframe\">\n",
       "  <thead>\n",
       "    <tr style=\"text-align: right;\">\n",
       "      <th></th>\n",
       "      <th>Complaint Type</th>\n",
       "    </tr>\n",
       "  </thead>\n",
       "  <tbody>\n",
       "    <tr>\n",
       "      <th>305</th>\n",
       "      <td>Noise - Commercial</td>\n",
       "    </tr>\n",
       "    <tr>\n",
       "      <th>542</th>\n",
       "      <td>Noise - Residential</td>\n",
       "    </tr>\n",
       "    <tr>\n",
       "      <th>553</th>\n",
       "      <td>Noise - Street/Sidewalk</td>\n",
       "    </tr>\n",
       "    <tr>\n",
       "      <th>614</th>\n",
       "      <td>Noise - Residential</td>\n",
       "    </tr>\n",
       "    <tr>\n",
       "      <th>693</th>\n",
       "      <td>Noise - Commercial</td>\n",
       "    </tr>\n",
       "    <tr>\n",
       "      <th>...</th>\n",
       "      <td>...</td>\n",
       "    </tr>\n",
       "    <tr>\n",
       "      <th>2586194</th>\n",
       "      <td>Sidewalk Condition</td>\n",
       "    </tr>\n",
       "    <tr>\n",
       "      <th>2586950</th>\n",
       "      <td>Noise - Residential</td>\n",
       "    </tr>\n",
       "    <tr>\n",
       "      <th>2587055</th>\n",
       "      <td>Lead</td>\n",
       "    </tr>\n",
       "    <tr>\n",
       "      <th>2587073</th>\n",
       "      <td>Noise - Residential</td>\n",
       "    </tr>\n",
       "    <tr>\n",
       "      <th>2587183</th>\n",
       "      <td>Noise - Residential</td>\n",
       "    </tr>\n",
       "  </tbody>\n",
       "</table>\n",
       "<p>21470 rows × 1 columns</p>\n",
       "</div>"
      ],
      "text/plain": [
       "                  Complaint Type\n",
       "305           Noise - Commercial\n",
       "542          Noise - Residential\n",
       "553      Noise - Street/Sidewalk\n",
       "614          Noise - Residential\n",
       "693           Noise - Commercial\n",
       "...                          ...\n",
       "2586194       Sidewalk Condition\n",
       "2586950      Noise - Residential\n",
       "2587055                     Lead\n",
       "2587073      Noise - Residential\n",
       "2587183      Noise - Residential\n",
       "\n",
       "[21470 rows x 1 columns]"
      ]
     },
     "execution_count": 2,
     "metadata": {},
     "output_type": "execute_result"
    }
   ],
   "source": [
    "#Part One of the Group Project: Group No:39 (au2267,ok2316)\n",
    "\n",
    "#Reading the CSV file\n",
    "import pandas as pd\n",
    "import numpy as np\n",
    "df=pd.read_csv('311_Service_Requests_2020.csv')\n",
    "\n",
    "#Fetching the specific pincode data\n",
    "df2=df[df[\"Incident Zip\"] ==10027]\n",
    "\n",
    "#Getting Complaints Type column\n",
    "df3=pd.DataFrame(df2, columns=[\"Complaint Type\"])\n",
    "df3"
   ]
  },
  {
   "cell_type": "code",
   "execution_count": 3,
   "id": "70d349ab",
   "metadata": {},
   "outputs": [],
   "source": [
    "#Grouping the data by complaint type\n",
    "df4= df3.groupby(['Complaint Type']).size()"
   ]
  },
  {
   "cell_type": "code",
   "execution_count": 4,
   "id": "ad5fdc9d",
   "metadata": {},
   "outputs": [
    {
     "name": "stdout",
     "output_type": "stream",
     "text": [
      "<class 'pandas.core.series.Series'>\n"
     ]
    }
   ],
   "source": [
    "#Making sure df4 is a pandas.Series\n",
    "print(type(df4))"
   ]
  },
  {
   "cell_type": "code",
   "execution_count": 5,
   "id": "6a9e79a9",
   "metadata": {},
   "outputs": [
    {
     "data": {
      "text/plain": [
       "Complaint Type\n",
       "APPLIANCE                  125\n",
       "Abandoned Vehicle           83\n",
       "Air Quality                 60\n",
       "Animal in a Park            27\n",
       "Animal-Abuse                71\n",
       "                          ... \n",
       "Violation of Park Rules     79\n",
       "WATER LEAK                 249\n",
       "Water Conservation           7\n",
       "Water Quality               51\n",
       "Water System               218\n",
       "Length: 125, dtype: int64"
      ]
     },
     "execution_count": 5,
     "metadata": {},
     "output_type": "execute_result"
    }
   ],
   "source": [
    "#printing the result of group\n",
    "df4"
   ]
  },
  {
   "cell_type": "code",
   "execution_count": 6,
   "id": "19cf070d",
   "metadata": {},
   "outputs": [
    {
     "name": "stdout",
     "output_type": "stream",
     "text": [
      "21470\n"
     ]
    }
   ],
   "source": [
    "print(df4.sum())"
   ]
  },
  {
   "cell_type": "code",
   "execution_count": 10,
   "id": "f11e9158",
   "metadata": {},
   "outputs": [
    {
     "data": {
      "text/plain": [
       "Complaint Type\n",
       "Noise - Residential            3610\n",
       "Noise - Street/Sidewalk        3087\n",
       "HEAT/HOT WATER                 2138\n",
       "Illegal Parking                1118\n",
       "Non-Emergency Police Matter     862\n",
       "Illegal Fireworks               779\n",
       "Noise - Vehicle                 647\n",
       "UNSANITARY CONDITION            628\n",
       "PLUMBING                        465\n",
       "Noise                           443\n",
       "Name: Complaint type, dtype: int64"
      ]
     },
     "execution_count": 10,
     "metadata": {},
     "output_type": "execute_result"
    }
   ],
   "source": [
    "#Getting the top10 \n",
    "df4.name = \"Complaint type\"\n",
    "top10 = df4.nlargest(10)\n",
    "top10"
   ]
  },
  {
   "cell_type": "code",
   "execution_count": 8,
   "id": "de8bbdc6",
   "metadata": {},
   "outputs": [
    {
     "data": {
      "text/plain": [
       "Index(['Noise - Residential', 'Noise - Street/Sidewalk', 'HEAT/HOT WATER',\n",
       "       'Illegal Parking', 'Non-Emergency Police Matter', 'Illegal Fireworks',\n",
       "       'Noise - Vehicle', 'UNSANITARY CONDITION', 'PLUMBING', 'Noise'],\n",
       "      dtype='object', name='Complaint Type')"
      ]
     },
     "execution_count": 8,
     "metadata": {},
     "output_type": "execute_result"
    }
   ],
   "source": [
    "#Name of top 10 lables\n",
    "top10.keys()"
   ]
  },
  {
   "cell_type": "code",
   "execution_count": null,
   "id": "6989793b",
   "metadata": {},
   "outputs": [],
   "source": []
  }
 ],
 "metadata": {
  "kernelspec": {
   "display_name": "Python 3",
   "language": "python",
   "name": "python3"
  },
  "language_info": {
   "codemirror_mode": {
    "name": "ipython",
    "version": 3
   },
   "file_extension": ".py",
   "mimetype": "text/x-python",
   "name": "python",
   "nbconvert_exporter": "python",
   "pygments_lexer": "ipython3",
   "version": "3.8.8"
  }
 },
 "nbformat": 4,
 "nbformat_minor": 5
}
