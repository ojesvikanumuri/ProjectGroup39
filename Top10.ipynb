{
 "cells": [
  {
   "cell_type": "code",
   "execution_count": 25,
   "id": "c6870440",
   "metadata": {},
   "outputs": [
    {
     "name": "stderr",
     "output_type": "stream",
     "text": [
      "/Users/avantiunde/opt/anaconda3/anaconda3/lib/python3.8/site-packages/IPython/core/interactiveshell.py:3165: DtypeWarning: Columns (31,32) have mixed types.Specify dtype option on import or set low_memory=False.\n",
      "  has_raised = await self.run_ast_nodes(code_ast.body, cell_name,\n"
     ]
    },
    {
     "data": {
      "text/html": [
       "<div>\n",
       "<style scoped>\n",
       "    .dataframe tbody tr th:only-of-type {\n",
       "        vertical-align: middle;\n",
       "    }\n",
       "\n",
       "    .dataframe tbody tr th {\n",
       "        vertical-align: top;\n",
       "    }\n",
       "\n",
       "    .dataframe thead th {\n",
       "        text-align: right;\n",
       "    }\n",
       "</style>\n",
       "<table border=\"1\" class=\"dataframe\">\n",
       "  <thead>\n",
       "    <tr style=\"text-align: right;\">\n",
       "      <th></th>\n",
       "      <th>Complaint Type</th>\n",
       "    </tr>\n",
       "  </thead>\n",
       "  <tbody>\n",
       "    <tr>\n",
       "      <th>305</th>\n",
       "      <td>Noise - Commercial</td>\n",
       "    </tr>\n",
       "    <tr>\n",
       "      <th>542</th>\n",
       "      <td>Noise - Residential</td>\n",
       "    </tr>\n",
       "    <tr>\n",
       "      <th>553</th>\n",
       "      <td>Noise - Street/Sidewalk</td>\n",
       "    </tr>\n",
       "    <tr>\n",
       "      <th>614</th>\n",
       "      <td>Noise - Residential</td>\n",
       "    </tr>\n",
       "    <tr>\n",
       "      <th>693</th>\n",
       "      <td>Noise - Commercial</td>\n",
       "    </tr>\n",
       "    <tr>\n",
       "      <th>...</th>\n",
       "      <td>...</td>\n",
       "    </tr>\n",
       "    <tr>\n",
       "      <th>1047326</th>\n",
       "      <td>Non-Emergency Police Matter</td>\n",
       "    </tr>\n",
       "    <tr>\n",
       "      <th>1047356</th>\n",
       "      <td>Non-Emergency Police Matter</td>\n",
       "    </tr>\n",
       "    <tr>\n",
       "      <th>1047807</th>\n",
       "      <td>General Construction/Plumbing</td>\n",
       "    </tr>\n",
       "    <tr>\n",
       "      <th>1048137</th>\n",
       "      <td>Consumer Complaint</td>\n",
       "    </tr>\n",
       "    <tr>\n",
       "      <th>1048460</th>\n",
       "      <td>Noise - Residential</td>\n",
       "    </tr>\n",
       "  </tbody>\n",
       "</table>\n",
       "<p>8986 rows × 1 columns</p>\n",
       "</div>"
      ],
      "text/plain": [
       "                        Complaint Type\n",
       "305                 Noise - Commercial\n",
       "542                Noise - Residential\n",
       "553            Noise - Street/Sidewalk\n",
       "614                Noise - Residential\n",
       "693                 Noise - Commercial\n",
       "...                                ...\n",
       "1047326    Non-Emergency Police Matter\n",
       "1047356    Non-Emergency Police Matter\n",
       "1047807  General Construction/Plumbing\n",
       "1048137             Consumer Complaint\n",
       "1048460            Noise - Residential\n",
       "\n",
       "[8986 rows x 1 columns]"
      ]
     },
     "execution_count": 25,
     "metadata": {},
     "output_type": "execute_result"
    }
   ],
   "source": [
    "#Reading the CSV file\n",
    "import pandas as pd\n",
    "import numpy as np\n",
    "df=pd.read_csv('311_Service_Requests_2020.csv')\n",
    "\n",
    "#Fetching the specific pincode data\n",
    "df2=df[df[\"Incidenxt Zip\"] ==10027]\n",
    "\n",
    "#Getting Complaints Type column\n",
    "df3=pd.DataFrame(df2, columns=[\"Complaint Type\"])\n",
    "df3\n",
    "\n"
   ]
  },
  {
   "cell_type": "code",
   "execution_count": 26,
   "id": "0dd3aae9",
   "metadata": {},
   "outputs": [],
   "source": [
    "#Grouping the data by complaint type\n",
    "df4= df3.groupby(['Complaint Type']).size()"
   ]
  },
  {
   "cell_type": "code",
   "execution_count": 39,
   "id": "2cb3ee52",
   "metadata": {},
   "outputs": [
    {
     "name": "stdout",
     "output_type": "stream",
     "text": [
      "<class 'pandas.core.series.Series'>\n"
     ]
    }
   ],
   "source": [
    "#Making sure df4 is a pandas.Series\n",
    "print(type(df4))"
   ]
  },
  {
   "cell_type": "code",
   "execution_count": 28,
   "id": "4c7dfdfb",
   "metadata": {},
   "outputs": [
    {
     "data": {
      "text/plain": [
       "Complaint Type\n",
       "APPLIANCE                  54\n",
       "Abandoned Vehicle          34\n",
       "Air Quality                31\n",
       "Animal in a Park           18\n",
       "Animal-Abuse               35\n",
       "                           ..\n",
       "Violation of Park Rules    14\n",
       "WATER LEAK                 74\n",
       "Water Conservation          6\n",
       "Water Quality               2\n",
       "Water System               71\n",
       "Length: 113, dtype: int64"
      ]
     },
     "execution_count": 28,
     "metadata": {},
     "output_type": "execute_result"
    }
   ],
   "source": [
    "#printing the result of group\n",
    "df4\n"
   ]
  },
  {
   "cell_type": "code",
   "execution_count": 29,
   "id": "dfc39c90",
   "metadata": {},
   "outputs": [
    {
     "name": "stdout",
     "output_type": "stream",
     "text": [
      "8986\n"
     ]
    }
   ],
   "source": [
    "#Consistency check sum of all complaints equal to 8986(Total complaints for Zip code 10027)\n",
    "print(df4.sum())"
   ]
  },
  {
   "cell_type": "code",
   "execution_count": 41,
   "id": "be5094a8",
   "metadata": {},
   "outputs": [],
   "source": [
    "#Getting the top10 \n",
    "top10 = df4.nlargest(10)\n"
   ]
  },
  {
   "cell_type": "code",
   "execution_count": 42,
   "id": "1cc83279",
   "metadata": {},
   "outputs": [
    {
     "data": {
      "text/plain": [
       "Complaint Type\n",
       "Noise - Residential            1786\n",
       "HEAT/HOT WATER                 1117\n",
       "Noise - Street/Sidewalk         996\n",
       "Non-Emergency Police Matter     774\n",
       "Illegal Parking                 402\n",
       "Illegal Fireworks               310\n",
       "Noise - Vehicle                 234\n",
       "Consumer Complaint              208\n",
       "Noise                           204\n",
       "UNSANITARY CONDITION            179\n",
       "dtype: int64"
      ]
     },
     "execution_count": 42,
     "metadata": {},
     "output_type": "execute_result"
    }
   ],
   "source": [
    "top10"
   ]
  },
  {
   "cell_type": "code",
   "execution_count": 43,
   "id": "61aac0b2",
   "metadata": {},
   "outputs": [
    {
     "data": {
      "text/plain": [
       "Index(['Noise - Residential', 'HEAT/HOT WATER', 'Noise - Street/Sidewalk',\n",
       "       'Non-Emergency Police Matter', 'Illegal Parking', 'Illegal Fireworks',\n",
       "       'Noise - Vehicle', 'Consumer Complaint', 'Noise',\n",
       "       'UNSANITARY CONDITION'],\n",
       "      dtype='object', name='Complaint Type')"
      ]
     },
     "execution_count": 43,
     "metadata": {},
     "output_type": "execute_result"
    }
   ],
   "source": [
    "top10.keys()"
   ]
  },
  {
   "cell_type": "code",
   "execution_count": 44,
   "id": "5c333099",
   "metadata": {},
   "outputs": [
    {
     "data": {
      "text/plain": [
       "1786"
      ]
     },
     "execution_count": 44,
     "metadata": {},
     "output_type": "execute_result"
    }
   ],
   "source": [
    "top10['Noise - Residential']"
   ]
  },
  {
   "cell_type": "code",
   "execution_count": null,
   "id": "e31d5de9",
   "metadata": {},
   "outputs": [],
   "source": []
  },
  {
   "cell_type": "code",
   "execution_count": null,
   "id": "fd1e77ff",
   "metadata": {},
   "outputs": [],
   "source": []
  }
 ],
 "metadata": {
  "kernelspec": {
   "display_name": "Python 3",
   "language": "python",
   "name": "python3"
  },
  "language_info": {
   "codemirror_mode": {
    "name": "ipython",
    "version": 3
   },
   "file_extension": ".py",
   "mimetype": "text/x-python",
   "name": "python",
   "nbconvert_exporter": "python",
   "pygments_lexer": "ipython3",
   "version": "3.8.8"
  }
 },
 "nbformat": 4,
 "nbformat_minor": 5
}
